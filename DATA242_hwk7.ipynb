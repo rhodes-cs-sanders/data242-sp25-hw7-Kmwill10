{
 "cells": [
  {
   "cell_type": "markdown",
   "id": "af128b18",
   "metadata": {},
   "source": [
    "### Homework 7 — *College Student Success Analytics*\n",
    "**Topics:** Pandas, NumPy, Matplotlib  \n",
    "\n",
    "**Goal:**  For this homework, I want you to practices with pandas, numpy, and matplotlib but I want you also to practice figuring out what the data is telling us!  So, story-telling is a learning goal:)  \n",
    "\n",
    "Two synthetic datasets describe **250 fictional Rhodes students**. \n",
    "\n",
    "| File | Rows | Description |\n",
    "|------|------|-------------|\n",
    "| `student_academic.csv` | 250 | One row per student: GPA, credits, study hours, attendance, etc. |\n",
    "| `student_activities.csv` | 0–650 | One row per *activity* a student joins (0–3 per student) with hours/week & leadership flag |"
   ]
  },
  {
   "cell_type": "markdown",
   "id": "d3ffaeb4",
   "metadata": {},
   "source": [
    "---\n",
    "## Task\n",
    "The Dean of Students wants to know which factors predict academic success and whether co‑curricular involvement helps or hurts. Produce a short analytics report (and this reproducible notebook) that answers her questions."
   ]
  },
  {
   "cell_type": "markdown",
   "id": "ec223d37",
   "metadata": {},
   "source": [
    "---\n",
    "## Part A — Data Wrangling *(15 pts)*\n",
    "1. **Load & inspect** both CSVs (done above). Show shape and `dtypes`.\n",
    "2. **Handle missing values** (~5 % already inserted). Choose a strategy to fix it **and justify it in the comments**.\n",
    "3. **Add Three Columns** (GPA_change, StudyIntensity, AttendanceFlag) to the data frame calculated as follows:\n",
    "```text\n",
    "GPA_change          = GPA_Sem2 – GPA_Sem1\n",
    "StudyIntensity = Hours_Study / Credits_Enrolled\n",
    "AttendanceFlag = 1 if AttendanceRate ≥ 0.90 else 0\n",
    "```\n"
   ]
  },
  {
   "cell_type": "code",
   "execution_count": null,
   "id": "879ecf0b",
   "metadata": {},
   "outputs": [],
   "source": [
    "#PART A: Data Wrangling\n",
    "\n"
   ]
  },
  {
   "cell_type": "markdown",
   "id": "f03dfb63",
   "metadata": {},
   "source": [
    "---\n",
    "## Part B — Exploratory Analyses *(55 pts)*\n",
    "The difficulty of this problem that the data is contained in two different data sets.  They are connected by StudentID.  You'll need to google this and figure out how to *merge* the data.   Make sure you do it correctly.\n",
    "\n",
    "| # | Question | Pts |\n",
    "|---|----------|-----|\n",
    "| 1 | **GPA shift.** Distribution of `GPA_change`. Print out the top 10 improvers. | 8 |\n",
    "| 2 | **Study habits.** Pearson correlation between `StudyIntensity` and `GPA_Sem2`; Visualize with scatter and print out the Pearson correlation (in our notes).    | 8 |\n",
    "| 3 | **Scholarships.** Mean & SD of `GPA_Sem2` for scholarship vs non‑scholarship.  Visualize this with box plot. | 6 |\n",
    "| 4 | **Attendance.** Compute the average `GPA_Sem2` for `AttendanceFlag` = 1 vs 0. Visualize this with a bar chart. | 6 |\n",
    "| 5 | **Activity load.** Compute total `Activity_Hours`; plot vs `GPA_Sem2`. | 6 |\n",
    "| 6 | **Leadership.** Does *any* leadership role correspond to higher GPA?  Plot this with box plot (include average and std for each leadership role).  You might have to groupby...| 7 |\n",
    "| 7 | **Major comparison.** For every major: mean GPA, mean study hours, scholarship %. Print out  and Visualize with a grouped bar chart. | 8 |\n",
    "| 8 | **Predictive index.** Calculate the (z‑score) GPA (looking back at our class notes), attendance, study hours; Call this variable `SuccessScore`; list top 15. | 6 |"
   ]
  },
  {
   "cell_type": "code",
   "execution_count": null,
   "id": "8a41f019-9cfb-4316-b117-df1f85660ac5",
   "metadata": {},
   "outputs": [],
   "source": [
    "# You can break this cell up if you prefer."
   ]
  },
  {
   "cell_type": "markdown",
   "id": "f8b13e83",
   "metadata": {},
   "source": [
    "---\n",
    "## Part C — Communication *(15 pts)*\n",
    "\n",
    "* Explain two actionable insights from your data\n",
    "* Point to the data that seems to be the most powerful.\n",
    "* The discussion here should be at least 200 words.\n",
    "* Your explanation should be in markdown.  Modify the markdown cell below.  \n",
    " "
   ]
  },
  {
   "cell_type": "markdown",
   "id": "1263e731-caaf-4ac9-ab89-2dfd38215c62",
   "metadata": {},
   "source": [
    "## Change me\n",
    "* Bullet points  **boldface**"
   ]
  },
  {
   "cell_type": "code",
   "execution_count": null,
   "id": "22fa03fd-5d8b-48c2-aaca-d3e92196c766",
   "metadata": {},
   "outputs": [],
   "source": []
  }
 ],
 "metadata": {
  "kernelspec": {
   "display_name": "Python [conda env:base] *",
   "language": "python",
   "name": "conda-base-py"
  },
  "language_info": {
   "codemirror_mode": {
    "name": "ipython",
    "version": 3
   },
   "file_extension": ".py",
   "mimetype": "text/x-python",
   "name": "python",
   "nbconvert_exporter": "python",
   "pygments_lexer": "ipython3",
   "version": "3.12.2"
  }
 },
 "nbformat": 4,
 "nbformat_minor": 5
}
